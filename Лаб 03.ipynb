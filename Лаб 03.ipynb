{
 "cells": [
  {
   "cell_type": "code",
   "execution_count": 1,
   "id": "96d89c79",
   "metadata": {},
   "outputs": [],
   "source": [
    "import numpy as np\n",
    "import copy"
   ]
  },
  {
   "cell_type": "code",
   "execution_count": 2,
   "id": "645f6a68",
   "metadata": {},
   "outputs": [],
   "source": [
    "# La fonction donnee\n",
    "def f(x):\n",
    "    return (x[0]-5)**2 + (x[1] - 1)**2 + (x[2]+2)**2\n",
    "\n",
    "# ON NE PEUT CONSTRUIRE FACILEMENT CAR LA FONCTION A TROIS VARIABLES X1, X2, X3\n",
    "# MAIS SI NOTRE ALGORITHM MARCHE BIEN IL VA NOUS DONNER LE RESULTAT SUIVANT\n",
    "# X1 = 5, X2 = 1, X3 = -2"
   ]
  },
  {
   "cell_type": "code",
   "execution_count": 3,
   "id": "4f2a8d57",
   "metadata": {},
   "outputs": [],
   "source": [
    "# Cette fonction va chercher le point du minimum x_min\n",
    "\n",
    "\n",
    "# x0 -> c'est le point de depart\n",
    "# step -> le pas qu'on fait vers l'avant\n",
    "\n",
    "# max_iter -> le nombre maximal d'iterations (d'essais)\n",
    "# no_improve_limit -> si en allant de l'avant f(x) n'augmente pas plus \"no_improve_limit\" \n",
    "#                     alors on considere au'il n'y a pas d'amelioration\n",
    "\n",
    "# no_improv_stop = 10 -> Si apres 10 essais il n'y a toujours pas d'amelioration, on arrete l'algorithm\n",
    "\n",
    "# alpha, beta, gamma ce sont des parametres\n",
    "\n",
    "def nelder_mead(f, x0,\n",
    "                step=0.1, no_improve_limit=10e-6,\n",
    "                no_improv_stop=10, max_iter=0,\n",
    "                alpha=1., gamma=2., rho=-0.5, sigma=0.5):\n",
    "   \n",
    "    \n",
    "    n = len(x0) # Nombre de variables (dans notre cas ce sera n = 3)\n",
    "    prev_best = f(x0) # La valeur de f au point x0\n",
    "    no_improv = 0\n",
    "    res = [[x0, prev_best]] # Ici on va garder le meilleur point avec la valeur de f\n",
    "\n",
    "    for i in range(n):         # Pour chaque x_i\n",
    "        x = copy.copy(x0)\n",
    "        x[i] = x[i] + step     # On avance un peu\n",
    "        score = f(x)           # On regarde la valeur de f(x)\n",
    "        res.append([x, score]) # On ajoute a \"res\"\n",
    "\n",
    "    # On fait des iterations\n",
    "    iters = 0\n",
    "    while 1:\n",
    "        # On range f1 < f2 < ....< fn+1\n",
    "        res.sort(key=lambda x: x[1])\n",
    "        best = res[0][1]\n",
    "\n",
    "        # Si on depassons max_iter\n",
    "        if max_iter and iters >= max_iter:\n",
    "            return res[0][0]\n",
    "        iters += 1\n",
    "\n",
    "        if best < prev_best - no_improve_limit:\n",
    "            no_improv = 0\n",
    "            prev_best = best\n",
    "        else:\n",
    "            no_improv += 1\n",
    "        \n",
    "        # Si nous depassons 10 tentavives sans amelioration on arrete\n",
    "        if no_improv >= no_improv_stop:\n",
    "            return res[0]\n",
    "\n",
    "        # On prend un point moyen parmi ceux qu'on a deja\n",
    "        x0 = [0.] * n\n",
    "        for tup in res[:-1]:\n",
    "            for i, c in enumerate(tup[0]):\n",
    "                x0[i] += c / (len(res)-1)\n",
    "\n",
    "        # A PARTIR D'ICI IL Y A TROIS POSSIBILITES\n",
    "        # 1 - REFLECTION\n",
    "        # 2 - EXPANSION\n",
    "        # 3 - CONTRACTION\n",
    "        \n",
    "        # reflection\n",
    "        xr = x0 + alpha*(x0 - res[-1][0])\n",
    "        rscore = f(xr)\n",
    "        if res[0][1] <= rscore < res[-2][1]:\n",
    "            del res[-1]\n",
    "            res.append([xr, rscore])\n",
    "            continue\n",
    "\n",
    "        # expansion\n",
    "        if rscore < res[0][1]:\n",
    "            xe = x0 + gamma*(x0 - res[-1][0])\n",
    "            escore = f(xe)\n",
    "            if escore < rscore:\n",
    "                del res[-1]\n",
    "                res.append([xe, escore])\n",
    "                continue\n",
    "            else:\n",
    "                del res[-1]\n",
    "                res.append([xr, rscore])\n",
    "                continue\n",
    "\n",
    "        # contraction\n",
    "        xc = x0 + rho*(x0 - res[-1][0])\n",
    "        cscore = f(xc)\n",
    "        if cscore < res[-1][1]:\n",
    "            del res[-1]\n",
    "            res.append([xc, cscore])\n",
    "            continue\n",
    "\n",
    "        # APRES NOUS REMPLACONS TOUS LES POINTS DANS RES PAR DE NOUVEAU\n",
    "        # X_i = X1 + sigma * (X_i - X1) \n",
    "        \n",
    "        x1 = res[0][0] # Le meilleur point, la ou f(x) est plus petit\n",
    "        nres = []\n",
    "        for tup in res:\n",
    "            redx = x1 + sigma*(tup[0] - x1)\n",
    "            score = f(redx)\n",
    "            nres.append([redx, score])\n",
    "        res = nres"
   ]
  },
  {
   "cell_type": "code",
   "execution_count": 6,
   "id": "04c7345b",
   "metadata": {},
   "outputs": [
    {
     "data": {
      "text/plain": [
       "array([ 4.99993533,  0.999903  , -2.00007792])"
      ]
     },
     "execution_count": 6,
     "metadata": {},
     "output_type": "execute_result"
    }
   ],
   "source": [
    "xui,_ = nelder_mead(f, x0 = np.array([0., 0., 0.]))\n",
    "xui"
   ]
  },
  {
   "cell_type": "code",
   "execution_count": 11,
   "id": "ddf0b8f9",
   "metadata": {},
   "outputs": [
    {
     "name": "stdout",
     "output_type": "stream",
     "text": [
      "[array([ 4.96831576,  1.02658056, -2.00558051]), 0.001741559035328305]\n"
     ]
    }
   ],
   "source": [
    "print(nelder_mead(f, x0 = np.array([2., 2., -1.])))"
   ]
  },
  {
   "cell_type": "code",
   "execution_count": null,
   "id": "71ef5bc7",
   "metadata": {},
   "outputs": [],
   "source": [
    "# ON VOIT QUE \n",
    "# X1 ~ 5\n",
    "# x2 ~ 1\n",
    "# x3 ~ -2\n",
    "\n",
    "# F_min ~ 0"
   ]
  }
 ],
 "metadata": {
  "kernelspec": {
   "display_name": "Python 3 (ipykernel)",
   "language": "python",
   "name": "python3"
  },
  "language_info": {
   "codemirror_mode": {
    "name": "ipython",
    "version": 3
   },
   "file_extension": ".py",
   "mimetype": "text/x-python",
   "name": "python",
   "nbconvert_exporter": "python",
   "pygments_lexer": "ipython3",
   "version": "3.8.5"
  }
 },
 "nbformat": 4,
 "nbformat_minor": 5
}
