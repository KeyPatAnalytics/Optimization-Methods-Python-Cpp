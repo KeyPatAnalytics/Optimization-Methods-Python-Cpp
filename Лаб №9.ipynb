{
 "cells": [
  {
   "cell_type": "markdown",
   "id": "0c1cfc6c",
   "metadata": {},
   "source": [
    "## Лаб № 9: Комбинированный метод штрафных  функций"
   ]
  },
  {
   "cell_type": "code",
   "execution_count": 8,
   "id": "2d25b2c6",
   "metadata": {},
   "outputs": [],
   "source": [
    "import numpy as np\n",
    "import copy\n",
    "#import matplotlib.pyplot as plt"
   ]
  },
  {
   "cell_type": "code",
   "execution_count": 9,
   "id": "5d58c002",
   "metadata": {},
   "outputs": [],
   "source": [
    "# Fonction principale\n",
    "def f(x):\n",
    "    return (x[0]-5)**2 + (x[1]-1)**2 + (x[2]+2)**2"
   ]
  },
  {
   "cell_type": "code",
   "execution_count": 59,
   "id": "9b1378c7",
   "metadata": {},
   "outputs": [],
   "source": [
    "# Fonction Shtraf (штрафовая функция)\n",
    "# Nous avons deux conditions:\n",
    "# 1.) x1 = 4                          <==> x1-4 = 0\n",
    "# 2.) (x2 + 1)^2 + (x3 + 1)^2 >= 11   <==>  11 - (x2 + 1)^2 - (x3 + 1)^2 <= 0\n",
    "\n",
    "# Condition No1\n",
    "def c1(x):\n",
    "    return x[0]-4\n",
    "#Condition No2\n",
    "def c2(x):\n",
    "    return 11 - (x[1]+1)**2 - (x[2]+1)**2\n",
    "\n",
    "# Fonction Shtraf    \n",
    "def P(x,R):\n",
    "    return ((c1(x)**2)/(2*R)) - R / c2(x)    "
   ]
  },
  {
   "cell_type": "code",
   "execution_count": 55,
   "id": "631785ac",
   "metadata": {},
   "outputs": [],
   "source": [
    "# Fonction auxilliaire\n",
    "def Phi(x,R):\n",
    "    return f(x) + P(x,R)"
   ]
  },
  {
   "cell_type": "markdown",
   "id": "e5dc2447",
   "metadata": {},
   "source": [
    "## Nous utilisons la methode du Лаб №3: алгоритм Нелдера-Мида"
   ]
  },
  {
   "cell_type": "code",
   "execution_count": 56,
   "id": "83fa2e40",
   "metadata": {},
   "outputs": [],
   "source": [
    "# Cette fonction va chercher le point du minimum x_min\n",
    "\n",
    "\n",
    "# x0 -> c'est le point de depart\n",
    "# step -> le pas qu'on fait vers l'avant\n",
    "\n",
    "# max_iter -> le nombre maximal d'iterations (d'essais)\n",
    "# no_improve_limit -> si en allant de l'avant f(x) n'augmente pas plus \"no_improve_limit\" \n",
    "#                     alors on considere au'il n'y a pas d'amelioration\n",
    "\n",
    "# no_improv_stop = 10 -> Si apres 10 essais il n'y a toujours pas d'amelioration, on arrete l'algorithm\n",
    "\n",
    "# alpha, beta, gamma ce sont des parametres\n",
    "\n",
    "def nelder_mead(f, x0,\n",
    "                step=0.1, no_improve_limit=10e-6,\n",
    "                no_improv_stop=10, max_iter=0,\n",
    "                alpha=1., gamma=2., rho=-0.5, sigma=0.5):\n",
    "   \n",
    "    \n",
    "    n = len(x0) # Nombre de variables (dans notre cas ce sera n = 3)\n",
    "    prev_best = f(x0) # La valeur de f au point x0\n",
    "    no_improv = 0\n",
    "    res = [[x0, prev_best]] # Ici on va garder le meilleur point avec la valeur de f\n",
    "\n",
    "    for i in range(n):         # Pour chaque x_i\n",
    "        x = copy.copy(x0)\n",
    "        x[i] = x[i] + step     # On avance un peu\n",
    "        score = f(x)           # On regarde la valeur de f(x)\n",
    "        res.append([x, score]) # On ajoute a \"res\"\n",
    "\n",
    "    # On fait des iterations\n",
    "    iters = 0\n",
    "    while 1:\n",
    "        # On range f1 < f2 < ....< fn+1\n",
    "        res.sort(key=lambda x: x[1])\n",
    "        best = res[0][1]\n",
    "\n",
    "        # Si on depassons max_iter\n",
    "        if max_iter and iters >= max_iter:\n",
    "            return res[0]\n",
    "        iters += 1\n",
    "\n",
    "        if best < prev_best - no_improve_limit:\n",
    "            no_improv = 0\n",
    "            prev_best = best\n",
    "        else:\n",
    "            no_improv += 1\n",
    "        \n",
    "        # Si nous depassons 10 tentavives sans amelioration on arrete\n",
    "        if no_improv >= no_improv_stop:\n",
    "            return res[0]\n",
    "\n",
    "        # On prend un point moyen parmi ceux qu'on a deja\n",
    "        x0 = [0.] * n\n",
    "        for tup in res[:-1]:\n",
    "            for i, c in enumerate(tup[0]):\n",
    "                x0[i] += c / (len(res)-1)\n",
    "\n",
    "        # A PARTIR D'ICI IL Y A TROIS POSSIBILITES\n",
    "        # 1 - REFLECTION\n",
    "        # 2 - EXPANSION\n",
    "        # 3 - CONTRACTION\n",
    "        \n",
    "        # reflection\n",
    "        xr = x0 + alpha*(x0 - res[-1][0])\n",
    "        rscore = f(xr)\n",
    "        if res[0][1] <= rscore < res[-2][1]:\n",
    "            del res[-1]\n",
    "            res.append([xr, rscore])\n",
    "            continue\n",
    "\n",
    "        # expansion\n",
    "        if rscore < res[0][1]:\n",
    "            xe = x0 + gamma*(x0 - res[-1][0])\n",
    "            escore = f(xe)\n",
    "            if escore < rscore:\n",
    "                del res[-1]\n",
    "                res.append([xe, escore])\n",
    "                continue\n",
    "            else:\n",
    "                del res[-1]\n",
    "                res.append([xr, rscore])\n",
    "                continue\n",
    "\n",
    "        # contraction\n",
    "        xc = x0 + rho*(x0 - res[-1][0])\n",
    "        cscore = f(xc)\n",
    "        if cscore < res[-1][1]:\n",
    "            del res[-1]\n",
    "            res.append([xc, cscore])\n",
    "            continue\n",
    "\n",
    "        # APRES NOUS REMPLACONS TOUS LES POINTS DANS RES PAR DE NOUVEAU\n",
    "        # X_i = X1 + sigma * (X_i - X1) \n",
    "        \n",
    "        x1 = res[0][0] # Le meilleur point, la ou f(x) est plus petit\n",
    "        nres = []\n",
    "        for tup in res:\n",
    "            redx = x1 + sigma*(tup[0] - x1)\n",
    "            score = f(redx)\n",
    "            nres.append([redx, score])\n",
    "        res = nres"
   ]
  },
  {
   "cell_type": "code",
   "execution_count": 60,
   "id": "a8d2d7c1",
   "metadata": {},
   "outputs": [],
   "source": [
    "# Methode de combinaison\n",
    "def combine_method(n,x0,R0=1,beta=4,epsilon=0.05,kmax=10):  # ETAPE 1\n",
    "    k=0\n",
    "    Rk = R0\n",
    "    xk = copy.copy(x0)\n",
    "    \n",
    "    while k < kmax:\n",
    "        pk = lambda x: Phi(x,Rk) # ETAPE 2\n",
    "        \n",
    "        x_Rk,_ = nelder_mead(pk,x0=np.array(xk)) # ETAPE 3\n",
    "        \n",
    "        # ETAPE 4\n",
    "        print(f\"k={k} xk = {xk}\")\n",
    "        if (np.abs(P(x_Rk,Rk)) < epsilon):\n",
    "            print(\"Solution founded!\")\n",
    "            return x_Rk\n",
    "        else:\n",
    "            Rk /= beta\n",
    "            xk = x_Rk\n",
    "        k += 1\n",
    "    return xk"
   ]
  },
  {
   "cell_type": "code",
   "execution_count": 61,
   "id": "1e90fd38",
   "metadata": {},
   "outputs": [
    {
     "name": "stdout",
     "output_type": "stream",
     "text": [
      "k=0 xk = [1, 10, 10]\n",
      "k=1 xk = [ 1. 10. 10.]\n",
      "k=2 xk = [ 4.33346986  1.01430675 -2.00727306]\n",
      "k=3 xk = [ 4.11097159  1.00303346 -2.00167967]\n",
      "Solution founded!\n"
     ]
    },
    {
     "data": {
      "text/plain": [
       "array([ 4.03028519,  1.00076168, -2.0002702 ])"
      ]
     },
     "execution_count": 61,
     "metadata": {},
     "output_type": "execute_result"
    }
   ],
   "source": [
    "combine_method(n=3,x0=[1,10,10])"
   ]
  },
  {
   "cell_type": "code",
   "execution_count": null,
   "id": "2baf6e1f",
   "metadata": {},
   "outputs": [],
   "source": []
  }
 ],
 "metadata": {
  "kernelspec": {
   "display_name": "Python 3 (ipykernel)",
   "language": "python",
   "name": "python3"
  },
  "language_info": {
   "codemirror_mode": {
    "name": "ipython",
    "version": 3
   },
   "file_extension": ".py",
   "mimetype": "text/x-python",
   "name": "python",
   "nbconvert_exporter": "python",
   "pygments_lexer": "ipython3",
   "version": "3.8.5"
  }
 },
 "nbformat": 4,
 "nbformat_minor": 5
}
