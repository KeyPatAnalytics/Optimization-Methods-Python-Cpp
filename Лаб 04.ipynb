{
 "cells": [
  {
   "cell_type": "code",
   "execution_count": 1,
   "id": "4a3f858f",
   "metadata": {},
   "outputs": [],
   "source": [
    "import numpy as np"
   ]
  },
  {
   "cell_type": "code",
   "execution_count": 2,
   "id": "3365e891",
   "metadata": {},
   "outputs": [],
   "source": [
    "# La fonction donnee\n",
    "def f(x):\n",
    "    return (x[0]-5)**2 + (x[1] - 1)**2 + (x[2]+2)**2"
   ]
  },
  {
   "cell_type": "code",
   "execution_count": 10,
   "id": "87ba3521",
   "metadata": {},
   "outputs": [],
   "source": [
    "# step 01\n",
    "def random_search(f, x0=[0,0,0], beta=0.5, M=8, t0=1, tmin=0.2, kmax=10):\n",
    "    n = len(x0) # Nombre de variables\n",
    "    j = 1\n",
    "    k = 0\n",
    "    \n",
    "    tk = t0\n",
    "    xk = np.array(x0)\n",
    "    \n",
    "    while True:\n",
    "        psi = -1. + 2 * np.random.rand(n) # Step 02 (Vecteur aleatoire entre [-1 1]\n",
    "        psi_norm = np.sqrt(np.sum(psi**2)) # La norme du vecteur psi\n",
    "\n",
    "        yj = xk + tk * psi / psi_norm  # step 03\n",
    "\n",
    "        if (f(yj) < f(xk)): # step 4a\n",
    "            xk = 1.0 * yj\n",
    "            if k == kmax:\n",
    "                return xk, f(xk)\n",
    "        else: # step 4b\n",
    "            if j < M: # step 5a\n",
    "                j += 1\n",
    "            else:  # step 5b\n",
    "                if tk > tmin:\n",
    "                    tk *= beta\n",
    "                    j = 1\n",
    "                else:\n",
    "                    return xk, f(xk)"
   ]
  },
  {
   "cell_type": "code",
   "execution_count": 11,
   "id": "6f491382",
   "metadata": {},
   "outputs": [
    {
     "name": "stdout",
     "output_type": "stream",
     "text": [
      "xmin:  [ 5.03081247  1.06219657 -2.09439929]\n",
      "fmin:  0.013729048838463737\n"
     ]
    }
   ],
   "source": [
    "xmin, fmin = random_search(f,x0=[2,2,-1])\n",
    "print(\"xmin: \",xmin)\n",
    "print(\"fmin: \", fmin)"
   ]
  }
 ],
 "metadata": {
  "kernelspec": {
   "display_name": "Python 3 (ipykernel)",
   "language": "python",
   "name": "python3"
  },
  "language_info": {
   "codemirror_mode": {
    "name": "ipython",
    "version": 3
   },
   "file_extension": ".py",
   "mimetype": "text/x-python",
   "name": "python",
   "nbconvert_exporter": "python",
   "pygments_lexer": "ipython3",
   "version": "3.8.5"
  }
 },
 "nbformat": 4,
 "nbformat_minor": 5
}
