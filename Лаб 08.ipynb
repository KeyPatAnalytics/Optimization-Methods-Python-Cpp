{
 "cells": [
  {
   "cell_type": "code",
   "execution_count": 23,
   "id": "e6b7b5a2",
   "metadata": {},
   "outputs": [],
   "source": [
    "import numpy as np\n",
    "from numpy.linalg import inv\n",
    "import copy"
   ]
  },
  {
   "cell_type": "code",
   "execution_count": 2,
   "id": "490e0f65",
   "metadata": {},
   "outputs": [],
   "source": [
    "# La fonction donnee\n",
    "def f(x):\n",
    "    return (x[0]-5)**2 + (x[1] - 1)**2 + (x[2]+2)**2"
   ]
  },
  {
   "cell_type": "code",
   "execution_count": 8,
   "id": "fe2c8567",
   "metadata": {},
   "outputs": [],
   "source": [
    "# Gradient de la fonction (Градиент функции f)\n",
    "def gradf(f,x,h = 1e-5):\n",
    "    df = []\n",
    "    n = len(x) # Nombre de variable\n",
    "    \n",
    "    for i in range(n):\n",
    "        x_tmp = copy.copy(x)\n",
    "        x_tmp[i] += h\n",
    "        dfi = (f(x_tmp) - f(x)) / h\n",
    "        df.append(dfi)\n",
    "    return np.array(df)"
   ]
  },
  {
   "cell_type": "code",
   "execution_count": 20,
   "id": "e8afdc0f",
   "metadata": {},
   "outputs": [
    {
     "data": {
      "text/plain": [
       "array([-9.99999, -1.99999,  4.00001])"
      ]
     },
     "execution_count": 20,
     "metadata": {},
     "output_type": "execute_result"
    }
   ],
   "source": [
    "gradf(f,x=[0,0,0])"
   ]
  },
  {
   "cell_type": "code",
   "execution_count": 32,
   "id": "ce2d96fd",
   "metadata": {},
   "outputs": [],
   "source": [
    "# Matrice de Hess (matrice des derivees secondes)\n",
    "def Hess(f,x,h=1e-3):\n",
    "    d2f = []\n",
    "    n = len(x) # Nombre de variable\n",
    "    \n",
    "    for i in range(n):\n",
    "        x_tmp = copy.copy(x)\n",
    "        x_tmp[i] += h\n",
    "        \n",
    "        dfxh = gradf(f,x_tmp)\n",
    "        dfx = gradf(f,x)\n",
    "        \n",
    "        d2f_i = (dfxh - dfx) / h\n",
    "        d2f.append(d2f_i)\n",
    "        \n",
    "    return np.array(d2f)"
   ]
  },
  {
   "cell_type": "code",
   "execution_count": 33,
   "id": "6ded2f91",
   "metadata": {},
   "outputs": [
    {
     "data": {
      "text/plain": [
       "array([[2.00000017, 0.        , 0.        ],\n",
       "       [0.        , 2.00000017, 0.        ],\n",
       "       [0.        , 0.        , 2.00000017]])"
      ]
     },
     "execution_count": 33,
     "metadata": {},
     "output_type": "execute_result"
    }
   ],
   "source": [
    "# Example: Matrice de Hess de f au point [0,0,0]\n",
    "Hess(f,x=[0,0,0])"
   ]
  },
  {
   "cell_type": "code",
   "execution_count": 34,
   "id": "01366d4e",
   "metadata": {},
   "outputs": [
    {
     "data": {
      "text/plain": [
       "array([[1., 0., 0.],\n",
       "       [0., 1., 0.],\n",
       "       [0., 0., 1.]])"
      ]
     },
     "execution_count": 34,
     "metadata": {},
     "output_type": "execute_result"
    }
   ],
   "source": [
    "np.eye(3)"
   ]
  },
  {
   "cell_type": "code",
   "execution_count": 35,
   "id": "7d71d923",
   "metadata": {
    "scrolled": true
   },
   "outputs": [],
   "source": [
    "def marquardt(f, x0=[0,0,0], eps=0.1, mu_0=2.0, kmax=5):\n",
    "    n = len(x0)\n",
    "    k = 0\n",
    "    xk = np.array(x0)\n",
    "    mu_k = mu_0\n",
    "    \n",
    "    while True:\n",
    "        gradient = gradf(f,xk) # step 02\n",
    "        \n",
    "        if np.sqrt(np.sum(gradient**2))  < eps: # step 03\n",
    "            return xk, f(xk)\n",
    "        \n",
    "        go_to_step_05 = True\n",
    "        E = np.eye(n) # Matrice identite\n",
    "        while go_to_step_05:\n",
    "            Hk = Hess(f,xk) # step 04\n",
    "            x_prev = copy.copy(xk)\n",
    "            xk = xk - np.dot(inv(Hk + mu_k * E), gradient) # step 05\n",
    "        \n",
    "            if f(xk) < f(x_prev): # step 06\n",
    "                mu_k = mu_k / 2\n",
    "                go_to_step_05 = False\n",
    "            else:\n",
    "                mu_k *= 2\n",
    "        # STEP 07\n",
    "        k += 1\n",
    "        if k == kmax:\n",
    "            return xk, f(xk)"
   ]
  },
  {
   "cell_type": "code",
   "execution_count": 36,
   "id": "ac88fcf6",
   "metadata": {},
   "outputs": [
    {
     "name": "stdout",
     "output_type": "stream",
     "text": [
      "xmin:  [ 4.99981645  1.00034478 -2.00212356]\n",
      "fmin:  4.662057775748831e-06\n"
     ]
    }
   ],
   "source": [
    "xmin, fmin = marquardt(f,x0=[2,2,-1])\n",
    "print(\"xmin: \",xmin)\n",
    "print(\"fmin: \", fmin)"
   ]
  }
 ],
 "metadata": {
  "kernelspec": {
   "display_name": "Python 3 (ipykernel)",
   "language": "python",
   "name": "python3"
  },
  "language_info": {
   "codemirror_mode": {
    "name": "ipython",
    "version": 3
   },
   "file_extension": ".py",
   "mimetype": "text/x-python",
   "name": "python",
   "nbconvert_exporter": "python",
   "pygments_lexer": "ipython3",
   "version": "3.8.5"
  }
 },
 "nbformat": 4,
 "nbformat_minor": 5
}
